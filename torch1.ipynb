{
  "nbformat": 4,
  "nbformat_minor": 0,
  "metadata": {
    "colab": {
      "provenance": []
    },
    "kernelspec": {
      "name": "python3",
      "display_name": "Python 3"
    },
    "language_info": {
      "name": "python"
    }
  },
  "cells": [
    {
      "cell_type": "code",
      "execution_count": null,
      "metadata": {
        "colab": {
          "base_uri": "https://localhost:8080/"
        },
        "id": "gA9uyYNrv_z_",
        "outputId": "92f5dd93-3958-4557-cc5a-0b2aea31f62a"
      },
      "outputs": [
        {
          "output_type": "stream",
          "name": "stdout",
          "text": [
            "tensor([[1.],\n",
            "        [2.],\n",
            "        [3.]])\n",
            "tensor([[2.],\n",
            "        [4.],\n",
            "        [6.]])\n"
          ]
        }
      ],
      "source": [
        "import torch\n",
        "from torch.autograd import Variable\n",
        "\n",
        "x_data = Variable(torch.Tensor([[1.0], [2.0], [3.0]]))\n",
        "y_data = Variable(torch.Tensor([[2.0], [4.0], [6.0]]))\n",
        "\n",
        "print(x_data)\n",
        "print(y_data)"
      ]
    },
    {
      "cell_type": "code",
      "source": [
        "class LinearRegressionModel(torch.nn.Module):\n",
        "\n",
        "    def __init__(self):\n",
        "        super(LinearRegressionModel, self).__init__()\n",
        "        self.linear = torch.nn.Linear(1, 1)  # One in and one out\n",
        "\n",
        "    def forward(self, x):\n",
        "        y_pred = self.linear(x)\n",
        "        return y_pred\n",
        "\n",
        "\n"
      ],
      "metadata": {
        "id": "hjB5QEKNwHD1"
      },
      "execution_count": null,
      "outputs": []
    },
    {
      "cell_type": "code",
      "source": [],
      "metadata": {
        "id": "dzYGlytAxC1V"
      },
      "execution_count": null,
      "outputs": []
    },
    {
      "cell_type": "markdown",
      "source": [
        "## Linear Regression"
      ],
      "metadata": {
        "id": "NVgXvOXPQBUL"
      }
    },
    {
      "cell_type": "markdown",
      "source": [
        "y = mx+b\n",
        "\n",
        "x is the independent variable <br>\n",
        "y is the dependent variable <br>\n",
        "m is the slope of line <br>\n",
        "b is the intercept <br>"
      ],
      "metadata": {
        "id": "mbCJl84AQEsU"
      }
    },
    {
      "cell_type": "code",
      "source": [
        "import torch\n",
        "import torch.nn as nn\n",
        "import numpy as np\n",
        "\n",
        "# Create some toy data\n",
        "x_train = torch.randn(100, 1)  # 100 data points, each with 1 feature\n",
        "y_train = 2 * x_train + 1 + 0.1 * torch.randn(100, 1)  # Noisy linear relationship\n",
        "\n",
        "print(x_train)\n",
        "print(y_train)"
      ],
      "metadata": {
        "colab": {
          "base_uri": "https://localhost:8080/"
        },
        "id": "y0SJ0Jc_QTVT",
        "outputId": "70e4002c-ead6-4521-da06-39f68f820441"
      },
      "execution_count": null,
      "outputs": [
        {
          "output_type": "stream",
          "name": "stdout",
          "text": [
            "tensor([[-0.6622],\n",
            "        [-0.9552],\n",
            "        [-0.5136],\n",
            "        [-2.0353],\n",
            "        [ 1.6911],\n",
            "        [ 0.2139],\n",
            "        [-2.0371],\n",
            "        [-0.2526],\n",
            "        [ 0.0400],\n",
            "        [ 1.2344],\n",
            "        [-1.3538],\n",
            "        [ 0.6812],\n",
            "        [ 1.5110],\n",
            "        [-0.9491],\n",
            "        [-0.8771],\n",
            "        [-0.9010],\n",
            "        [-0.9378],\n",
            "        [-1.0684],\n",
            "        [-0.4660],\n",
            "        [-0.4302],\n",
            "        [ 0.4217],\n",
            "        [-0.6551],\n",
            "        [-0.0337],\n",
            "        [ 0.2337],\n",
            "        [ 0.7091],\n",
            "        [-0.8472],\n",
            "        [-1.4812],\n",
            "        [-1.1302],\n",
            "        [ 1.3974],\n",
            "        [-0.9236],\n",
            "        [-0.1244],\n",
            "        [ 0.2460],\n",
            "        [-1.2526],\n",
            "        [ 0.6526],\n",
            "        [ 1.4454],\n",
            "        [ 0.6393],\n",
            "        [-1.8561],\n",
            "        [-0.1459],\n",
            "        [-1.5648],\n",
            "        [-0.2199],\n",
            "        [-0.2147],\n",
            "        [ 1.4598],\n",
            "        [-0.6187],\n",
            "        [ 0.9012],\n",
            "        [-0.6379],\n",
            "        [-0.5535],\n",
            "        [-1.2999],\n",
            "        [ 1.0137],\n",
            "        [-0.0707],\n",
            "        [-0.6622],\n",
            "        [ 1.7159],\n",
            "        [-1.8561],\n",
            "        [-0.2256],\n",
            "        [ 0.2762],\n",
            "        [-0.7962],\n",
            "        [ 0.1267],\n",
            "        [-1.2121],\n",
            "        [-1.5153],\n",
            "        [-1.0358],\n",
            "        [-0.5380],\n",
            "        [-0.7450],\n",
            "        [-1.0120],\n",
            "        [-1.5527],\n",
            "        [ 0.0054],\n",
            "        [-0.5050],\n",
            "        [-0.2190],\n",
            "        [-1.4387],\n",
            "        [ 2.2385],\n",
            "        [-0.1477],\n",
            "        [ 0.5309],\n",
            "        [-1.5535],\n",
            "        [ 0.3770],\n",
            "        [ 0.9762],\n",
            "        [-0.3249],\n",
            "        [-1.3014],\n",
            "        [ 0.5434],\n",
            "        [ 0.7585],\n",
            "        [ 1.3374],\n",
            "        [-0.8214],\n",
            "        [ 0.0925],\n",
            "        [ 1.1052],\n",
            "        [ 1.6075],\n",
            "        [ 0.2364],\n",
            "        [ 1.1723],\n",
            "        [-2.1700],\n",
            "        [ 0.9004],\n",
            "        [-0.2416],\n",
            "        [-1.6622],\n",
            "        [-0.2994],\n",
            "        [ 0.1221],\n",
            "        [-0.5069],\n",
            "        [ 1.1908],\n",
            "        [-0.0386],\n",
            "        [ 0.9499],\n",
            "        [-0.4179],\n",
            "        [-0.9964],\n",
            "        [-0.5889],\n",
            "        [-1.1167],\n",
            "        [ 1.2742],\n",
            "        [ 1.6106]])\n",
            "tensor([[-0.3248],\n",
            "        [-0.9250],\n",
            "        [-0.1202],\n",
            "        [-3.0922],\n",
            "        [ 4.5387],\n",
            "        [ 1.4364],\n",
            "        [-3.1105],\n",
            "        [ 0.4113],\n",
            "        [ 1.0262],\n",
            "        [ 3.5411],\n",
            "        [-1.7182],\n",
            "        [ 2.5850],\n",
            "        [ 3.8481],\n",
            "        [-0.6990],\n",
            "        [-0.7284],\n",
            "        [-0.9481],\n",
            "        [-0.7672],\n",
            "        [-1.1393],\n",
            "        [ 0.0457],\n",
            "        [ 0.1832],\n",
            "        [ 1.6976],\n",
            "        [-0.4575],\n",
            "        [ 0.9616],\n",
            "        [ 1.3453],\n",
            "        [ 2.4639],\n",
            "        [-0.8194],\n",
            "        [-2.0544],\n",
            "        [-1.3212],\n",
            "        [ 3.9213],\n",
            "        [-0.8650],\n",
            "        [ 1.0063],\n",
            "        [ 1.5129],\n",
            "        [-1.3691],\n",
            "        [ 2.2705],\n",
            "        [ 3.8957],\n",
            "        [ 2.3202],\n",
            "        [-2.7765],\n",
            "        [ 0.7604],\n",
            "        [-2.1519],\n",
            "        [ 0.4440],\n",
            "        [ 0.4222],\n",
            "        [ 3.9374],\n",
            "        [-0.1006],\n",
            "        [ 2.7418],\n",
            "        [-0.0775],\n",
            "        [-0.2092],\n",
            "        [-1.3913],\n",
            "        [ 3.0323],\n",
            "        [ 0.8980],\n",
            "        [-0.4290],\n",
            "        [ 4.4892],\n",
            "        [-2.7821],\n",
            "        [ 0.5343],\n",
            "        [ 1.4762],\n",
            "        [-0.7231],\n",
            "        [ 1.1580],\n",
            "        [-1.3102],\n",
            "        [-2.0845],\n",
            "        [-1.0981],\n",
            "        [-0.1874],\n",
            "        [-0.4987],\n",
            "        [-1.1773],\n",
            "        [-2.0670],\n",
            "        [ 0.8377],\n",
            "        [-0.0836],\n",
            "        [ 0.5996],\n",
            "        [-1.7273],\n",
            "        [ 5.4928],\n",
            "        [ 0.8079],\n",
            "        [ 2.1191],\n",
            "        [-2.1761],\n",
            "        [ 1.9364],\n",
            "        [ 3.0030],\n",
            "        [ 0.4135],\n",
            "        [-1.5665],\n",
            "        [ 1.9035],\n",
            "        [ 2.5126],\n",
            "        [ 3.7814],\n",
            "        [-0.7598],\n",
            "        [ 1.1080],\n",
            "        [ 3.0427],\n",
            "        [ 4.3141],\n",
            "        [ 1.5975],\n",
            "        [ 3.3759],\n",
            "        [-3.4092],\n",
            "        [ 3.0255],\n",
            "        [ 0.5396],\n",
            "        [-2.1851],\n",
            "        [ 0.3782],\n",
            "        [ 1.3594],\n",
            "        [-0.0118],\n",
            "        [ 3.1762],\n",
            "        [ 0.9956],\n",
            "        [ 2.9447],\n",
            "        [ 0.1022],\n",
            "        [-0.9304],\n",
            "        [-0.0516],\n",
            "        [-1.1486],\n",
            "        [ 3.6973],\n",
            "        [ 3.9969]])\n"
          ]
        }
      ]
    },
    {
      "cell_type": "code",
      "source": [
        "\n",
        "\n",
        "class LinearRegression(nn.Module):\n",
        "    def __init__(self, input_size, output_size):\n",
        "        super(LinearRegression, self).__init__()\n",
        "        self.linear = nn.Linear(input_size,output_size)\n",
        "\n",
        "    def forward(self, x):\n",
        "        out = self.linear(x)\n",
        "        return out\n",
        "\n",
        "model = LinearRegression(1, 1)  # Input and output size are both 1"
      ],
      "metadata": {
        "id": "FjmD7P1WQjEf"
      },
      "execution_count": null,
      "outputs": []
    },
    {
      "cell_type": "code",
      "source": [
        "model"
      ],
      "metadata": {
        "colab": {
          "base_uri": "https://localhost:8080/"
        },
        "id": "1Z8Bj-_lTYSA",
        "outputId": "0211178c-9cd5-4124-9ac1-eff9ddd5eccb"
      },
      "execution_count": null,
      "outputs": [
        {
          "output_type": "execute_result",
          "data": {
            "text/plain": [
              "LinearRegression(\n",
              "  (linear): Linear(in_features=1, out_features=1, bias=True)\n",
              ")"
            ]
          },
          "metadata": {},
          "execution_count": 4
        }
      ]
    },
    {
      "cell_type": "code",
      "source": [
        "# Define loss function and optimizer\n",
        "criterion = nn.MSELoss()\n",
        "optimizer = torch.optim.SGD(model.parameters(), lr=0.01)"
      ],
      "metadata": {
        "id": "cKaiLciyTgwm"
      },
      "execution_count": null,
      "outputs": []
    },
    {
      "cell_type": "code",
      "source": [
        "# Training loop\n",
        "num_epochs = 100\n",
        "for epoch in range(num_epochs):\n",
        "    # Forward pass\n",
        "    outputs = model(x_train)\n",
        "    loss = criterion(outputs, y_train)\n",
        "\n",
        "    # Backward and optimize\n",
        "    optimizer.zero_grad()\n",
        "    loss.backward()\n",
        "    optimizer.step()\n",
        "\n",
        "    if (epoch+1) % 10 == 0:\n",
        "        print(f'Epoch [{epoch+1}/{num_epochs}], Loss: {loss.item():.4f}')\n"
      ],
      "metadata": {
        "colab": {
          "base_uri": "https://localhost:8080/"
        },
        "id": "HWmP_EYoT0j5",
        "outputId": "f0b35612-e5af-46b0-dcd6-92e643d48448"
      },
      "execution_count": null,
      "outputs": [
        {
          "output_type": "stream",
          "name": "stdout",
          "text": [
            "Epoch [10/100], Loss: 3.3182\n",
            "Epoch [20/100], Loss: 2.1697\n",
            "Epoch [30/100], Loss: 1.4287\n",
            "Epoch [40/100], Loss: 0.9477\n",
            "Epoch [50/100], Loss: 0.6338\n",
            "Epoch [60/100], Loss: 0.4276\n",
            "Epoch [70/100], Loss: 0.2913\n",
            "Epoch [80/100], Loss: 0.2007\n",
            "Epoch [90/100], Loss: 0.1402\n",
            "Epoch [100/100], Loss: 0.0994\n"
          ]
        }
      ]
    },
    {
      "cell_type": "code",
      "source": [
        "# Make predictions\n",
        "predicted = model(x_train).detach().numpy()\n",
        "predicted"
      ],
      "metadata": {
        "colab": {
          "base_uri": "https://localhost:8080/"
        },
        "id": "RfGSsn5rT32f",
        "outputId": "4fd8368a-3000-463c-afff-cd2fb870179a"
      },
      "execution_count": null,
      "outputs": [
        {
          "output_type": "execute_result",
          "data": {
            "text/plain": [
              "array([[-2.6039404e-01],\n",
              "       [-7.6623255e-01],\n",
              "       [-3.8075447e-03],\n",
              "       [-2.6308742e+00],\n",
              "       [ 3.8024468e+00],\n",
              "       [ 1.2521135e+00],\n",
              "       [-2.6340525e+00],\n",
              "       [ 4.4685498e-01],\n",
              "       [ 9.5195580e-01],\n",
              "       [ 3.0140378e+00],\n",
              "       [-1.4543319e+00],\n",
              "       [ 2.0589311e+00],\n",
              "       [ 3.4915388e+00],\n",
              "       [-7.5568300e-01],\n",
              "       [-6.3136226e-01],\n",
              "       [-6.7266911e-01],\n",
              "       [-7.3614532e-01],\n",
              "       [-9.6166629e-01],\n",
              "       [ 7.8451335e-02],\n",
              "       [ 1.4016461e-01],\n",
              "       [ 1.6109285e+00],\n",
              "       [-2.4803275e-01],\n",
              "       [ 8.2472414e-01],\n",
              "       [ 1.2863649e+00],\n",
              "       [ 2.1070633e+00],\n",
              "       [-5.7966703e-01],\n",
              "       [-1.6743793e+00],\n",
              "       [-1.0682726e+00],\n",
              "       [ 3.2954283e+00],\n",
              "       [-7.1165532e-01],\n",
              "       [ 6.6813225e-01],\n",
              "       [ 1.3075908e+00],\n",
              "       [-1.2796760e+00],\n",
              "       [ 2.0095437e+00],\n",
              "       [ 3.3783417e+00],\n",
              "       [ 1.9866211e+00],\n",
              "       [-2.3214841e+00],\n",
              "       [ 6.3094741e-01],\n",
              "       [-1.8186300e+00],\n",
              "       [ 5.0331128e-01],\n",
              "       [ 5.1213408e-01],\n",
              "       [ 3.4031117e+00],\n",
              "       [-1.8533307e-01],\n",
              "       [ 2.4388223e+00],\n",
              "       [-2.1846861e-01],\n",
              "       [-7.2633028e-02],\n",
              "       [-1.3613095e+00],\n",
              "       [ 2.6329372e+00],\n",
              "       [ 7.6084363e-01],\n",
              "       [-2.6031047e-01],\n",
              "       [ 3.8453186e+00],\n",
              "       [-2.3216076e+00],\n",
              "       [ 4.9342996e-01],\n",
              "       [ 1.3597614e+00],\n",
              "       [-4.9176079e-01],\n",
              "       [ 1.1016195e+00],\n",
              "       [-1.2096453e+00],\n",
              "       [-1.7332120e+00],\n",
              "       [-9.0538710e-01],\n",
              "       [-4.5992255e-02],\n",
              "       [-4.0338296e-01],\n",
              "       [-8.6424035e-01],\n",
              "       [-1.7977052e+00],\n",
              "       [ 8.9219707e-01],\n",
              "       [ 1.0981917e-02],\n",
              "       [ 5.0483835e-01],\n",
              "       [-1.6008568e+00],\n",
              "       [ 4.7474880e+00],\n",
              "       [ 6.2792736e-01],\n",
              "       [ 1.7993851e+00],\n",
              "       [-1.7991908e+00],\n",
              "       [ 1.5337994e+00],\n",
              "       [ 2.5683019e+00],\n",
              "       [ 3.2204610e-01],\n",
              "       [-1.3638403e+00],\n",
              "       [ 1.8209624e+00],\n",
              "       [ 2.1924036e+00],\n",
              "       [ 3.1917639e+00],\n",
              "       [-5.3523666e-01],\n",
              "       [ 1.0425141e+00],\n",
              "       [ 2.7910073e+00],\n",
              "       [ 3.6581926e+00],\n",
              "       [ 1.2910438e+00],\n",
              "       [ 2.9068289e+00],\n",
              "       [-2.8635235e+00],\n",
              "       [ 2.4372971e+00],\n",
              "       [ 4.6570089e-01],\n",
              "       [-1.9868450e+00],\n",
              "       [ 3.6600220e-01],\n",
              "       [ 1.0937316e+00],\n",
              "       [ 7.7482462e-03],\n",
              "       [ 2.9386237e+00],\n",
              "       [ 8.1623203e-01],\n",
              "       [ 2.5228176e+00],\n",
              "       [ 1.6149163e-01],\n",
              "       [-8.3733124e-01],\n",
              "       [-1.3388795e-01],\n",
              "       [-1.0450728e+00],\n",
              "       [ 3.0826926e+00],\n",
              "       [ 3.6635127e+00]], dtype=float32)"
            ]
          },
          "metadata": {},
          "execution_count": 8
        }
      ]
    },
    {
      "cell_type": "code",
      "source": [],
      "metadata": {
        "id": "zS6k8tKwT6WX"
      },
      "execution_count": null,
      "outputs": []
    }
  ]
}